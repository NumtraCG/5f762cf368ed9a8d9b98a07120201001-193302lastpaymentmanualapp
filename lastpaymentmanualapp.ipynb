{
 "cells": [
  {
   "cell_type": "markdown",
   "metadata": {},
   "source": [
    "***GENERATED CODE FOR lastpaymentmanualapp PIPELINE.***"
   ]
  },
  {
   "cell_type": "markdown",
   "metadata": {},
   "source": [
    "***DON'T EDIT THIS CODE.***"
   ]
  },
  {
   "cell_type": "markdown",
   "metadata": {},
   "source": [
    "***CONNECTOR FUNCTIONS TO READ DATA FROM DATABRICKS FILESYSTEM.***"
   ]
  },
  {
   "cell_type": "code",
   "execution_count": null,
   "metadata": {},
   "outputs": [],
   "source": [
    "import datetime\n",
    "import logging\n",
    "import warnings\n",
    "warnings.filterwarnings('ignore')\n",
    "logging.basicConfig(format='%(levelname)s:%(message)s', level=logging.INFO)\n",
    "\n",
    "\n",
    "class DBFSConnector:\n",
    "\n",
    "    def fetch(spark, config):\n",
    "        df = spark.read.\\\n",
    "            options(header='true' if eval(config)[\"is_header\"] == \"Use Header Line\" else 'false',\n",
    "                    inferschema='true',\n",
    "                    delimiter=eval(config)[\"delimiter\"])\\\n",
    "            .csv(eval(config)['url'])\n",
    "        display(df.limit(2).toPandas())\n",
    "        return df\n",
    "\n",
    "    def put(df, spark, config):\n",
    "        return df.write.format('csv').options(header='true' if eval(config)[\"is_header\"] == \"Use Header Line\" else 'false',\n",
    "                                              delimiter=eval(config)[\"delimiter\"]).save((\"%s %s\") % (datetime.datetime.now().strftime(\"%Y-%m-%d %H.%M.%S\")+\"_\", eval(config)['url']))\n"
   ]
  },
  {
   "cell_type": "markdown",
   "metadata": {},
   "source": [
    "***TRANSFORMATIONS FUNCTIONS THAT WILL BE APPLIED ON DATA***"
   ]
  },
  {
   "cell_type": "code",
   "execution_count": null,
   "metadata": {},
   "outputs": [],
   "source": [
    "import json\n",
    "from pyspark.sql.functions import round\n",
    "from pyspark.ml.feature import Binarizer\n",
    "from pyspark.sql.functions import col, when\n",
    "from pyspark.sql.functions import mean, stddev, min, max, col\n",
    "\n",
    "\n",
    "class CleanseData:\n",
    "    # def __init__(self,df):\n",
    "    #     #print()\n",
    "\n",
    "    def replaceByMean(self, feature, df, mean_=-1):\n",
    "\n",
    "        meanValue = df.select(mean(col(feature.name)).alias(\n",
    "            'mean')).collect()[0][\"mean\"]\n",
    "        df.fillna(meanValue, subset=[feature.name])\n",
    "        df.withColumn(feature.name, when(col(feature.name) == \" \",\n",
    "                                         meanValue).otherwise(col(feature.name).cast(\"Integer\")))\n",
    "        return df\n",
    "\n",
    "    def replaceByMax(self, feature, df, max_=-1):\n",
    "        maxValue = df.select(max(col(feature.name)).alias('max')).collect()[\n",
    "            0][\"max\"]\n",
    "        df.fillna(maxValue, subset=[feature.name])\n",
    "        df = df.withColumn(feature.name,\n",
    "                           when(col(feature.name) == \" \", maxValue).otherwise(col(feature.name)))\n",
    "        return df\n",
    "\n",
    "    def replaceByMin(self, feature, df, min_=-1):\n",
    "        minValue = df.select(min(col(feature.name)).alias('min')).collect()[\n",
    "            0][\"min\"]\n",
    "        df.fillna(minValue, subset=[feature.name])\n",
    "        df = df.withColumn(feature.name,\n",
    "                           when(col(feature.name) == \" \", minValue).otherwise(col(feature.name)))\n",
    "        return df\n",
    "\n",
    "    def replaceByStandardDeviation(self, feature, df, stddev_=-1):\n",
    "        stddevValue = df.select(stddev(col(feature.name)).alias(\n",
    "            'stddev')).collect()[0][\"stddev\"]\n",
    "        df.fillna(stddevValue, subset=[feature.name])\n",
    "        df = df.withColumn(feature.name,\n",
    "                           when(col(feature.name) == \" \", stddevValue).otherwise(col(feature.name)))\n",
    "        return df\n",
    "\n",
    "    def replaceDateRandomly(self, feature, df):\n",
    "        fillValue = df.where(col(feature.name).isNotNull()\n",
    "                             ).head(1)[0][feature.name]\n",
    "        df.fillna(str(fillValue), subset=[feature.name])\n",
    "        df = df.withColumn(feature.name,\n",
    "                           when(col(feature.name) == \" \", fillValue).otherwise(col(feature.name)))\n",
    "        # print(\"CleanseData:replaceDateRandomly Schema : \", df.#printSchema())\n",
    "        return df\n",
    "\n",
    "    def replaceNullValues(self, fList, df):\n",
    "        featuresList = df.schema.fields\n",
    "        for featureObj in fList:\n",
    "            for feat in featuresList:\n",
    "                if featureObj[\"feature\"] in feat.name:\n",
    "                    featureName = feat\n",
    "                    if \"mean\" in featureObj[\"replaceby\"]:\n",
    "                        df = self.replaceByMean(featureName, df)\n",
    "                    elif \"max\" in featureObj[\"replaceby\"]:\n",
    "                        df = self.replaceByMax(featureName, df)\n",
    "                    elif \"min\" in featureObj[\"replaceby\"]:\n",
    "                        df = self.replaceByMin(featureName, df)\n",
    "                    elif \"stddev\" in featureObj[\"replaceby\"]:\n",
    "                        df = self.replaceByStandardDeviation(featureName, df)\n",
    "                    elif \"random\" in featureObj[\"replaceby\"]:\n",
    "                        df = self.replaceDateRandomly(featureName, df)\n",
    "        return df\n",
    "\n",
    "\n",
    "def BinarizerTransform(df, params, transformationData={}):\n",
    "    dfReturn = df\n",
    "    transform_params = params\n",
    "    feature = transform_params['feature']\n",
    "    outcol = feature + \"_binarizer\"\n",
    "    dfReturn = dfReturn.withColumn(\"feature_cast\", dfReturn[feature].cast(\"double\")).drop(feature)\\\n",
    "        .withColumnRenamed(\"feature_cast\", feature)\n",
    "\n",
    "    dfReturn = dfReturn.fillna({feature: 0.0})\n",
    "    binarizer = Binarizer(threshold=float(\n",
    "        transformationData['threshold']), inputCol=feature, outputCol=outcol)\n",
    "    binarizedDataFrame = binarizer.transform(dfReturn)\n",
    "\n",
    "    # binarizedDataFrame=binarizedDataFrame.drop(feature).withColumnRenamed(outcol,feature)\n",
    "\n",
    "    dfReturn = binarizedDataFrame\n",
    "    dfReturn = dfReturn.withColumn(feature, round(dfReturn[feature], 2))\n",
    "\n",
    "    return dfReturn\n",
    "\n",
    "\n",
    "class TransformationMain:\n",
    "    # TODO: change df argument in run with following\n",
    "    def run(transformationDF, config):\n",
    "        configObj = json.loads(config)\n",
    "        featureData = configObj[\"FE\"]\n",
    "        transformationDF = CleanseData().replaceNullValues(featureData, transformationDF)\n",
    "        transformationDF = BinarizerTransform(transformationDF, {'transformationsData': [{'feature_label': 'DiagnosisCodeID1', 'threshold': 40415.89232883203, 'transformation_label': 'Binarizer'}], 'feature': 'DiagnosisCodeID1', 'type': 'real', 'selected': 'True', 'replaceby': 'mean', 'stats': {\n",
    "                                              'count': '105525', 'mean': '40415.89', 'stddev': '25478.64', 'min': '13472.0', 'max': '94919.0', 'missing': '0'}, 'transformation': [{'transformation': 'Binarizer', 'selectedAsDefault': 1}], 'updatedLabel': 'DiagnosisCodeID1'}, {'feature_label': 'DiagnosisCodeID1', 'threshold': 40415.89232883203, 'transformation_label': 'Binarizer'})\n",
    "        transformationDF = transformationDF.drop('DiagnosisCodeID1')\n",
    "        display(transformationDF.limit(2).toPandas())\n",
    "        return transformationDF\n"
   ]
  },
  {
   "cell_type": "markdown",
   "metadata": {},
   "source": [
    "***AUTOML FUNCTIONS***"
   ]
  },
  {
   "cell_type": "code",
   "execution_count": null,
   "metadata": {},
   "outputs": [],
   "source": []
  },
  {
   "cell_type": "markdown",
   "metadata": {},
   "source": [
    "***READING DATAFRAME***"
   ]
  },
  {
   "cell_type": "code",
   "execution_count": null,
   "metadata": {},
   "outputs": [],
   "source": [
    "from pyspark.sql import SparkSession\n",
    "spark = SparkSession.builder.getOrCreate()\n",
    "\n",
    "#%run lastpaymentmanualappHooks.ipynb\n",
    "try:\n",
    "\t#sourcePreExecutionHook()\n",
    "\n",
    "\tdbfs = DBFSConnector.fetch(spark, \"{'url': '/Whitespace/whitespace_days_to_first_last_decision_cleaned.csv', 'file_type': 'Delimeted', 'delimiter': ',', 'is_header': 'Use Header Line'}\")\n",
    "\t#sourcePostExecutionHook(dbfs)\n",
    "\n",
    "except Exception as ex: \n",
    "\tlogging.error(ex)\n"
   ]
  },
  {
   "cell_type": "markdown",
   "metadata": {},
   "source": [
    "***TRANSFORMING DATAFRAME***"
   ]
  },
  {
   "cell_type": "code",
   "execution_count": null,
   "metadata": {},
   "outputs": [],
   "source": [
    "#%run lastpaymentmanualappHooks.ipynb\n",
    "try:\n",
    "\t#transformationPreExecutionHook()\n",
    "\n",
    "\tautofe = TransformationMain.run(dbfs,json.dumps( {\"FE\": [{\"transformationsData\": [{\"transformation_label\": \"novalue\"}], \"feature\": \"_c0\", \"transformation\": [{\"transformation\": \"novalue\", \"selectedAsDefault\": 1}], \"type\": \"numeric\", \"replaceby\": \"mean\", \"selected\": \"True\", \"stats\": {\"count\": \"105525\", \"mean\": \"264405.23\", \"stddev\": \"152932.94\", \"min\": \"6\", \"max\": \"530350\", \"missing\": \"0\"}, \"updatedLabel\": \"_c0\"}, {\"transformationsData\": [{\"transformation_label\": \"novalue\"}], \"feature\": \"first_decision\", \"type\": \"real\", \"selected\": \"True\", \"replaceby\": \"mean\", \"stats\": {\"count\": \"105525\", \"mean\": \"15.44\", \"stddev\": \"9.3\", \"min\": \"1.0\", \"max\": \"194.0\", \"missing\": \"0\"}, \"transformation\": [{\"transformation\": \"novalue\", \"selectedAsDefault\": 1}], \"updatedLabel\": \"first_decision\"}, {\"transformationsData\": [{\"transformation_label\": \"novalue\"}], \"feature\": \"last_decision\", \"type\": \"real\", \"selected\": \"True\", \"replaceby\": \"mean\", \"stats\": {\"count\": \"105525\", \"mean\": \"28.76\", \"stddev\": \"27.15\", \"min\": \"1.0\", \"max\": \"205.0\", \"missing\": \"0\"}, \"transformation\": [{\"transformation\": \"novalue\", \"selectedAsDefault\": 1}], \"updatedLabel\": \"last_decision\"}, {\"transformationsData\": [{\"transformation_label\": \"novalue\"}], \"feature\": \"CPTCodeID\", \"transformation\": [{\"transformation\": \"novalue\", \"selectedAsDefault\": 1}], \"type\": \"numeric\", \"replaceby\": \"mean\", \"selected\": \"True\", \"stats\": {\"count\": \"105525\", \"mean\": \"1817.91\", \"stddev\": \"1214.05\", \"min\": \"1\", \"max\": \"4914\", \"missing\": \"0\"}, \"updatedLabel\": \"CPTCodeID\"}, {\"transformationsData\": [{\"transformation_label\": \"novalue\"}], \"feature\": \"FacilityID\", \"transformation\": [{\"transformation\": \"novalue\", \"selectedAsDefault\": 1}], \"type\": \"numeric\", \"replaceby\": \"mean\", \"selected\": \"True\", \"stats\": {\"count\": \"105525\", \"mean\": \"102.13\", \"stddev\": \"48.49\", \"min\": \"0\", \"max\": \"179\", \"missing\": \"0\"}, \"updatedLabel\": \"FacilityID\"}, {\"transformationsData\": [{\"transformation_label\": \"novalue\"}], \"feature\": \"ProviderID\", \"transformation\": [{\"transformation\": \"novalue\", \"selectedAsDefault\": 1}], \"type\": \"numeric\", \"replaceby\": \"mean\", \"selected\": \"True\", \"stats\": {\"count\": \"105525\", \"mean\": \"134.12\", \"stddev\": \"74.38\", \"min\": \"0\", \"max\": \"263\", \"missing\": \"0\"}, \"updatedLabel\": \"ProviderID\"}, {\"transformationsData\": [{\"transformation_label\": \"novalue\"}], \"feature\": \"PayerId\", \"transformation\": [{\"transformation\": \"novalue\", \"selectedAsDefault\": 1}], \"type\": \"numeric\", \"replaceby\": \"mean\", \"selected\": \"True\", \"stats\": {\"count\": \"105525\", \"mean\": \"142.4\", \"stddev\": \"53.83\", \"min\": \"0\", \"max\": \"251\", \"missing\": \"0\"}, \"updatedLabel\": \"PayerId\"}, {\"transformationsData\": [{\"transformation_label\": \"novalue\"}], \"feature\": \"DepartmentID\", \"transformation\": [{\"transformation\": \"novalue\", \"selectedAsDefault\": 1}], \"type\": \"numeric\", \"replaceby\": \"mean\", \"selected\": \"True\", \"stats\": {\"count\": \"105525\", \"mean\": \"19.71\", \"stddev\": \"11.56\", \"min\": \"0\", \"max\": \"50\", \"missing\": \"0\"}, \"updatedLabel\": \"DepartmentID\"}, {\"transformationsData\": [{\"feature_label\": \"DiagnosisCodeID1\", \"threshold\": 40415.89232883203, \"transformation_label\": \"Binarizer\"}], \"feature\": \"DiagnosisCodeID1\", \"type\": \"real\", \"selected\": \"True\", \"replaceby\": \"mean\", \"stats\": {\"count\": \"105525\", \"mean\": \"40415.89\", \"stddev\": \"25478.64\", \"min\": \"13472.0\", \"max\": \"94919.0\", \"missing\": \"0\"}, \"transformation\": [{\"transformation\": \"Binarizer\", \"selectedAsDefault\": 1}], \"updatedLabel\": \"DiagnosisCodeID1\"}, {\"transformationsData\": [{\"transformation_label\": \"novalue\"}], \"feature\": \"LoadYear\", \"transformation\": [{\"transformation\": \"novalue\", \"selectedAsDefault\": 1}], \"type\": \"numeric\", \"replaceby\": \"mean\", \"selected\": \"True\", \"stats\": {\"count\": \"105525\", \"mean\": \"2020.0\", \"stddev\": \"0.0\", \"min\": \"2020\", \"max\": \"2020\", \"missing\": \"0\"}, \"updatedLabel\": \"LoadYear\"}, {\"transformationsData\": [{\"transformation_label\": \"novalue\"}], \"feature\": \"LoadMonth\", \"transformation\": [{\"transformation\": \"novalue\", \"selectedAsDefault\": 1}], \"type\": \"numeric\", \"replaceby\": \"mean\", \"selected\": \"True\", \"stats\": {\"count\": \"105525\", \"mean\": \"7.0\", \"stddev\": \"0.0\", \"min\": \"7\", \"max\": \"7\", \"missing\": \"0\"}, \"updatedLabel\": \"LoadMonth\"}, {\"transformationsData\": [{\"transformation_label\": \"novalue\"}], \"feature\": \"LoadWeek\", \"transformation\": [{\"transformation\": \"novalue\", \"selectedAsDefault\": 1}], \"type\": \"numeric\", \"replaceby\": \"mean\", \"selected\": \"True\", \"stats\": {\"count\": \"105525\", \"mean\": \"28.05\", \"stddev\": \"0.34\", \"min\": \"28\", \"max\": \"31\", \"missing\": \"0\"}, \"updatedLabel\": \"LoadWeek\"}, {\"transformationsData\": [{\"transformation_label\": \"novalue\"}], \"feature\": \"LoadDay\", \"transformation\": [{\"transformation\": \"novalue\", \"selectedAsDefault\": 1}], \"type\": \"numeric\", \"replaceby\": \"mean\", \"selected\": \"True\", \"stats\": {\"count\": \"105525\", \"mean\": \"9.38\", \"stddev\": \"2.34\", \"min\": \"9\", \"max\": \"29\", \"missing\": \"0\"}, \"updatedLabel\": \"LoadDay\"}, {\"transformationsData\": [{\"transformation_label\": \"novalue\"}], \"feature\": \"LoadDayofweek\", \"transformation\": [{\"transformation\": \"novalue\", \"selectedAsDefault\": 1}], \"type\": \"numeric\", \"replaceby\": \"mean\", \"selected\": \"True\", \"stats\": {\"count\": \"105525\", \"mean\": \"3.0\", \"stddev\": \"0.38\", \"min\": \"0\", \"max\": \"6\", \"missing\": \"0\"}, \"updatedLabel\": \"LoadDayofweek\"}, {\"transformationsData\": [{\"transformation_label\": \"novalue\"}], \"feature\": \"LoadDayofyear\", \"transformation\": [{\"transformation\": \"novalue\", \"selectedAsDefault\": 1}], \"type\": \"numeric\", \"replaceby\": \"mean\", \"selected\": \"True\", \"stats\": {\"count\": \"105525\", \"mean\": \"191.38\", \"stddev\": \"2.34\", \"min\": \"191\", \"max\": \"211\", \"missing\": \"0\"}, \"updatedLabel\": \"LoadDayofyear\"}, {\"transformationsData\": [{\"transformation_label\": \"novalue\"}], \"feature\": \"DateOfServiceYear\", \"transformation\": [{\"transformation\": \"novalue\", \"selectedAsDefault\": 1}], \"type\": \"numeric\", \"replaceby\": \"mean\", \"selected\": \"True\", \"stats\": {\"count\": \"105525\", \"mean\": \"2019.97\", \"stddev\": \"0.18\", \"min\": \"2017\", \"max\": \"2020\", \"missing\": \"0\"}, \"updatedLabel\": \"DateOfServiceYear\"}, {\"transformationsData\": [{\"transformation_label\": \"novalue\"}], \"feature\": \"DateOfServiceMonth\", \"transformation\": [{\"transformation\": \"novalue\", \"selectedAsDefault\": 1}], \"type\": \"numeric\", \"replaceby\": \"mean\", \"selected\": \"True\", \"stats\": {\"count\": \"105525\", \"mean\": \"3.05\", \"stddev\": \"2.11\", \"min\": \"1\", \"max\": \"12\", \"missing\": \"0\"}, \"updatedLabel\": \"DateOfServiceMonth\"}, {\"transformationsData\": [{\"transformation_label\": \"novalue\"}], \"feature\": \"DateOfServiceWeek\", \"transformation\": [{\"transformation\": \"novalue\", \"selectedAsDefault\": 1}], \"type\": \"numeric\", \"replaceby\": \"mean\", \"selected\": \"True\", \"stats\": {\"count\": \"105525\", \"mean\": \"11.39\", \"stddev\": \"8.32\", \"min\": \"1\", \"max\": \"52\", \"missing\": \"0\"}, \"updatedLabel\": \"DateOfServiceWeek\"}, {\"transformationsData\": [{\"transformation_label\": \"novalue\"}], \"feature\": \"DateOfServiceDay\", \"transformation\": [{\"transformation\": \"novalue\", \"selectedAsDefault\": 1}], \"type\": \"numeric\", \"replaceby\": \"mean\", \"selected\": \"True\", \"stats\": {\"count\": \"105525\", \"mean\": \"15.67\", \"stddev\": \"8.61\", \"min\": \"1\", \"max\": \"31\", \"missing\": \"0\"}, \"updatedLabel\": \"DateOfServiceDay\"}, {\"transformationsData\": [{\"transformation_label\": \"novalue\"}], \"feature\": \"DateOfServiceDayofweek\", \"transformation\": [{\"transformation\": \"novalue\", \"selectedAsDefault\": 1}], \"type\": \"numeric\", \"replaceby\": \"mean\", \"selected\": \"True\", \"stats\": {\"count\": \"105525\", \"mean\": \"1.95\", \"stddev\": \"1.43\", \"min\": \"0\", \"max\": \"6\", \"missing\": \"0\"}, \"updatedLabel\": \"DateOfServiceDayofweek\"}, {\"transformationsData\": [{\"transformation_label\": \"novalue\"}], \"feature\": \"DateOfServiceDayofyear\", \"transformation\": [{\"transformation\": \"novalue\", \"selectedAsDefault\": 1}], \"type\": \"numeric\", \"replaceby\": \"mean\", \"selected\": \"True\", \"stats\": {\"count\": \"105525\", \"mean\": \"77.79\", \"stddev\": \"65.36\", \"min\": \"1\", \"max\": \"365\", \"missing\": \"0\"}, \"updatedLabel\": \"DateOfServiceDayofyear\"}, {\"transformationsData\": [{\"transformation_label\": \"novalue\"}], \"feature\": \"DateOfEntryYear\", \"transformation\": [{\"transformation\": \"novalue\", \"selectedAsDefault\": 1}], \"type\": \"numeric\", \"replaceby\": \"mean\", \"selected\": \"True\", \"stats\": {\"count\": \"105525\", \"mean\": \"2020.0\", \"stddev\": \"0.0\", \"min\": \"2020\", \"max\": \"2020\", \"missing\": \"0\"}, \"updatedLabel\": \"DateOfEntryYear\"}, {\"transformationsData\": [{\"transformation_label\": \"novalue\"}], \"feature\": \"DateOfEntryMonth\", \"transformation\": [{\"transformation\": \"novalue\", \"selectedAsDefault\": 1}], \"type\": \"numeric\", \"replaceby\": \"mean\", \"selected\": \"True\", \"stats\": {\"count\": \"105525\", \"mean\": \"2.81\", \"stddev\": \"1.43\", \"min\": \"1\", \"max\": \"5\", \"missing\": \"0\"}, \"updatedLabel\": \"DateOfEntryMonth\"}, {\"transformationsData\": [{\"transformation_label\": \"novalue\"}], \"feature\": \"DateOfEntryWeek\", \"transformation\": [{\"transformation\": \"novalue\", \"selectedAsDefault\": 1}], \"type\": \"numeric\", \"replaceby\": \"mean\", \"selected\": \"True\", \"stats\": {\"count\": \"105525\", \"mean\": \"10.97\", \"stddev\": \"6.28\", \"min\": \"1\", \"max\": \"22\", \"missing\": \"0\"}, \"updatedLabel\": \"DateOfEntryWeek\"}, {\"transformationsData\": [{\"transformation_label\": \"novalue\"}], \"feature\": \"DateOfEntryDay\", \"transformation\": [{\"transformation\": \"novalue\", \"selectedAsDefault\": 1}], \"type\": \"numeric\", \"replaceby\": \"mean\", \"selected\": \"True\", \"stats\": {\"count\": \"105525\", \"mean\": \"16.06\", \"stddev\": \"8.58\", \"min\": \"1\", \"max\": \"31\", \"missing\": \"0\"}, \"updatedLabel\": \"DateOfEntryDay\"}, {\"transformationsData\": [{\"transformation_label\": \"novalue\"}], \"feature\": \"DateOfEntryDayofweek\", \"transformation\": [{\"transformation\": \"novalue\", \"selectedAsDefault\": 1}], \"type\": \"numeric\", \"replaceby\": \"mean\", \"selected\": \"True\", \"stats\": {\"count\": \"105525\", \"mean\": \"2.09\", \"stddev\": \"1.52\", \"min\": \"0\", \"max\": \"6\", \"missing\": \"0\"}, \"updatedLabel\": \"DateOfEntryDayofweek\"}, {\"transformationsData\": [{\"transformation_label\": \"novalue\"}], \"feature\": \"DateOfEntryDayofyear\", \"transformation\": [{\"transformation\": \"novalue\", \"selectedAsDefault\": 1}], \"type\": \"numeric\", \"replaceby\": \"mean\", \"selected\": \"True\", \"stats\": {\"count\": \"105525\", \"mean\": \"70.91\", \"stddev\": \"43.98\", \"min\": \"1\", \"max\": \"152\", \"missing\": \"0\"}, \"updatedLabel\": \"DateOfEntryDayofyear\"}, {\"feature\": \"DiagnosisCodeID1_binarizer_transform\", \"transformation\": [{\"transformation\": \"novalue\", \"selectedAsDefault\": 0}], \"transformationsData\": [{\"transformation_label\": \"novalue\"}], \"type\": \"real\", \"selected\": \"True\", \"stats\": {\"count\": \"105525\", \"mean\": \"0.29\", \"stddev\": \"0.45\", \"min\": \"0.0\", \"max\": \"1.0\", \"missing\": \"0\"}, \"updatedLabel\": \"DiagnosisCodeID1_binarize...\"}]}))\n",
    "\n",
    "\t#transformationPostExecutionHook(autofe)\n",
    "\n",
    "except Exception as ex: \n",
    "\tlogging.error(ex)\n"
   ]
  },
  {
   "cell_type": "markdown",
   "metadata": {},
   "source": [
    "***TRAIN MODEL***"
   ]
  },
  {
   "cell_type": "code",
   "execution_count": null,
   "metadata": {},
   "outputs": [],
   "source": [
    "#%run lastpaymentmanualappHooks.ipynb\n",
    "try:\n",
    "\t#mlPreExecutionHook()\n",
    "\n",
    "\tdataAutoML=XG-Boost-classifier(autofe, [\"_c0\", \"first_decision\", \"CPTCodeID\", \"FacilityID\", \"ProviderID\", \"PayerId\", \"DepartmentID\", \"DiagnosisCodeID1_binarizer\", \"LoadYear\", \"LoadMonth\", \"LoadWeek\", \"LoadDay\", \"LoadDayofweek\", \"LoadDayofyear\", \"DateOfServiceYear\", \"DateOfServiceMonth\", \"DateOfServiceWeek\", \"DateOfServiceDay\", \"DateOfServiceDayofweek\", \"DateOfServiceDayofyear\", \"DateOfEntryYear\", \"DateOfEntryMonth\", \"DateOfEntryWeek\", \"DateOfEntryDay\", \"DateOfEntryDayofweek\", \"DateOfEntryDayofyear\"], \"last_decision\")\n",
    "\n",
    "\t#mlPostExecutionHook(dataAutoML)\n",
    "\n",
    "except Exception as ex: \n",
    "\tlogging.error(ex)\n"
   ]
  }
 ],
 "metadata": {},
 "nbformat": 4,
 "nbformat_minor": 4
}
